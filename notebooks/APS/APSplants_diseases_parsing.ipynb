{
 "cells": [
  {
   "cell_type": "code",
   "execution_count": 2,
   "metadata": {},
   "outputs": [],
   "source": [
    "from pathlib import Path\n",
    "\n",
    "BASE_DIR = Path.cwd().resolve().parents[1]\n",
    "\n",
    "#print(\"Project root:\", BASE_DIR)"
   ]
  },
  {
   "cell_type": "code",
   "execution_count": 1,
   "metadata": {},
   "outputs": [],
   "source": [
    "from selenium import webdriver\n",
    "from selenium.webdriver.common.by import By\n",
    "from selenium.webdriver.chrome.service import Service\n",
    "from webdriver_manager.chrome import ChromeDriverManager\n",
    "from bs4 import BeautifulSoup\n",
    "import time\n",
    "import os\n",
    "import json"
   ]
  },
  {
   "cell_type": "code",
   "execution_count": 3,
   "metadata": {},
   "outputs": [],
   "source": [
    "# Настройка драйвера\n",
    "driver = webdriver.Chrome(service=Service(ChromeDriverManager().install())) "
   ]
  },
  {
   "cell_type": "code",
   "execution_count": 4,
   "metadata": {},
   "outputs": [],
   "source": [
    "path=BASE_DIR / \"data\"/ \"APS\""
   ]
  },
  {
   "cell_type": "code",
   "execution_count": 5,
   "metadata": {},
   "outputs": [
    {
     "name": "stdout",
     "output_type": "stream",
     "text": [
      "{'African Daisy': 'https://www.apsnet.org/edcenter/resources/commonnames/Pages/AfricanDaisy.aspx', 'African Violet': 'https://www.apsnet.org/edcenter/resources/commonnames/Pages/DiseasesofAfricanViolet.aspx', 'Alfalfa': 'https://www.apsnet.org/edcenter/resources/commonnames/Pages/Alfalfa.aspx', 'Almond': 'https://www.apsnet.org/edcenter/resources/commonnames/Pages/DiseasesofAlmond.aspx', 'Anemone': 'https://www.apsnet.org/edcenter/resources/commonnames/Pages/Anemone.aspx', 'Apple': 'https://www.apsnet.org/edcenter/resources/commonnames/Pages/Apple.aspx', 'Apricot': 'https://www.apsnet.org/edcenter/resources/commonnames/Pages/Apricot.aspx', 'Asparagus': 'https://www.apsnet.org/edcenter/resources/commonnames/Pages/Asparagus.aspx', 'Avocado': 'https://www.apsnet.org/edcenter/resources/commonnames/Pages/Avocado.aspx', 'Azalea': 'https://www.apsnet.org/edcenter/resources/commonnames/Pages/Azalea.aspx', 'Banana and Plantain': 'https://www.apsnet.org/edcenter/resources/commonnames/Pages/BananaandPlantain.aspx', 'Barley': 'https://www.apsnet.org/edcenter/resources/commonnames/Pages/Barley.aspx', 'Bean': 'https://www.apsnet.org/edcenter/resources/commonnames/Pages/Bean.aspx', 'Bedding Plants': 'https://www.apsnet.org/edcenter/resources/commonnames/Pages/BeddingPlants.aspx', 'Beet': 'https://www.apsnet.org/edcenter/resources/commonnames/Pages/Beet.aspx', 'Bellflower': 'https://www.apsnet.org/edcenter/resources/commonnames/Pages/Bellflower.aspx', 'Black Walnut': 'https://www.apsnet.org/edcenter/resources/commonnames/Pages/BlackWalnut.aspx', 'Bleeding Heart': 'https://www.apsnet.org/edcenter/resources/commonnames/Pages/BleedingHeart.aspx', 'Blueberry': 'https://www.apsnet.org/edcenter/resources/commonnames/Pages/Blueberry.aspx', 'Butterfly Flower': 'https://www.apsnet.org/edcenter/resources/commonnames/Pages/ButterflyFlower.aspx', 'Cacao': 'https://www.apsnet.org/edcenter/resources/commonnames/Pages/Cacao.aspx', 'Caneberries': 'https://www.apsnet.org/edcenter/resources/commonnames/Pages/Caneberries.aspx', 'Carnation': 'https://www.apsnet.org/edcenter/resources/commonnames/Pages/Carnation.aspx', 'Carrot': 'https://www.apsnet.org/edcenter/resources/commonnames/Pages/Carrot.aspx', 'Cassava': 'https://www.apsnet.org/edcenter/resources/commonnames/Pages/Cassava.aspx', 'Cattleya Lindl. spp': 'https://www.apsnet.org/edcenter/resources/commonnames/Pages/CattleyaLindlspp.aspx', 'Celery': 'https://www.apsnet.org/edcenter/resources/commonnames/Pages/Celery.aspx', 'Chickpea': 'https://www.apsnet.org/edcenter/resources/commonnames/Pages/Chickpea.aspx', 'Chrysanthemum': 'https://www.apsnet.org/edcenter/resources/commonnames/Pages/Chrysanthemum.aspx', 'Cineraria': 'https://www.apsnet.org/edcenter/resources/commonnames/Pages/Cineraria.aspx', 'Citrus': 'https://www.apsnet.org/edcenter/resources/commonnames/Pages/Citrus.aspx', 'Coconut Palm': 'https://www.apsnet.org/edcenter/resources/commonnames/Pages/CoconutPalm.aspx', 'Coffee': 'https://www.apsnet.org/edcenter/resources/commonnames/Pages/Coffee.aspx', \"Common House or Florist's Hydrangea\": 'https://www.apsnet.org/edcenter/resources/commonnames/Pages/Hydrangea.aspx', 'Conifer': 'https://www.apsnet.org/edcenter/resources/commonnames/Pages/Conifer.aspx', 'Corn (syn. Maize)': 'https://www.apsnet.org/edcenter/resources/commonnames/Pages/Corn.aspx', 'Cotton': 'https://www.apsnet.org/edcenter/resources/commonnames/Pages/Cotton.aspx', 'Cranberry': 'https://www.apsnet.org/edcenter/resources/commonnames/Pages/Cranberry.aspx', 'Crucifers': 'https://www.apsnet.org/edcenter/resources/commonnames/Pages/Crucifers.aspx', 'Cucurbits': 'https://www.apsnet.org/edcenter/resources/commonnames/Pages/Cucurbits.aspx', 'Cultivated Wild Rice': 'https://www.apsnet.org/edcenter/resources/commonnames/Pages/CultivatedWildRice.aspx', 'Cyclamen': 'https://www.apsnet.org/edcenter/resources/commonnames/Pages/Cyclamen.aspx', 'Date Palm': 'https://www.apsnet.org/edcenter/resources/commonnames/Pages/DatePalm.aspx', 'Douglas-fir': 'https://www.apsnet.org/edcenter/resources/commonnames/Pages/Douglas-fir.aspx', 'Elm': 'https://www.apsnet.org/edcenter/resources/commonnames/Pages/Elm.aspx', 'English (Persian) Walnut': 'https://www.apsnet.org/edcenter/resources/commonnames/Pages/EnglishPersianWalnut.aspx', 'European Hazelnut': 'https://www.apsnet.org/edcenter/resources/commonnames/Pages/Hazelnut.aspx', 'Flax': 'https://www.apsnet.org/edcenter/resources/commonnames/Pages/Flax.aspx', 'Foliage Plants (House Plants)': 'https://www.apsnet.org/edcenter/resources/commonnames/Pages/FoliagePlants.aspx', 'Fuchsia': 'https://www.apsnet.org/edcenter/resources/commonnames/Pages/Fuchsia.aspx', 'Garden Dahlia': 'https://www.apsnet.org/edcenter/resources/commonnames/Pages/Dahlia.aspx', 'Geranium': 'https://www.apsnet.org/edcenter/resources/commonnames/Pages/Geranium.aspx', 'Grape': 'https://www.apsnet.org/edcenter/resources/commonnames/Pages/Grape.aspx', 'Hemp': 'https://www.apsnet.org/edcenter/resources/commonnames/Pages/Hemp.aspx', 'Holiday Cacti': 'https://www.apsnet.org/edcenter/resources/commonnames/Pages/HolidayCacti.aspx', 'Hop': 'https://www.apsnet.org/edcenter/resources/commonnames/Pages/DiseasesofHop.aspx', 'Impatiens': 'https://www.apsnet.org/edcenter/resources/commonnames/Pages/Impatiens.aspx', 'Jerusalem Cherry': 'https://www.apsnet.org/edcenter/resources/commonnames/Pages/JerusalemCherry.aspx', 'Kalanchoë': 'https://www.apsnet.org/edcenter/resources/commonnames/Pages/Kalanchoë.aspx', 'Lentil': 'https://www.apsnet.org/edcenter/resources/commonnames/Pages/DiseasesofLentil.aspx', 'Lettuce': 'https://www.apsnet.org/edcenter/resources/commonnames/Pages/Lettuce.aspx', 'Lingonberry': 'https://www.apsnet.org/edcenter/resources/commonnames/Pages/Lingonberry.aspx', 'Lisianthus': 'https://www.apsnet.org/edcenter/resources/commonnames/Pages/Lisianthus.aspx', 'Mango': 'https://www.apsnet.org/edcenter/resources/commonnames/Pages/Mango.aspx', 'Mimulus, Monkey-Flower': 'https://www.apsnet.org/edcenter/resources/commonnames/Pages/Mimulus.aspx', 'Mint': 'https://www.apsnet.org/edcenter/resources/commonnames/Pages/Mint.aspx', 'Mustard': 'https://www.apsnet.org/edcenter/resources/commonnames/Pages/Mustard.aspx', 'Oats': 'https://www.apsnet.org/edcenter/resources/commonnames/Pages/Oats.aspx', 'Onion and Garlic': 'https://www.apsnet.org/edcenter/resources/commonnames/Pages/OnionandGarlic.aspx', 'Papaya': 'https://www.apsnet.org/edcenter/resources/commonnames/Pages/Papaya.aspx', 'Passionfruit': 'https://www.apsnet.org/edcenter/resources/commonnames/Pages/Passionfruit.aspx', 'Pea': 'https://www.apsnet.org/edcenter/resources/commonnames/Pages/Pea.aspx', 'Peach and Nectarine': 'https://www.apsnet.org/edcenter/resources/commonnames/Pages/PeachandNectarine.aspx', 'Peanut': 'https://www.apsnet.org/edcenter/resources/commonnames/Pages/Peanut.aspx', 'Pear': 'https://www.apsnet.org/edcenter/resources/commonnames/Pages/Pear.aspx', 'Pearl Millet': 'https://www.apsnet.org/edcenter/resources/commonnames/Pages/PearlMillet.aspx', 'Pecan': 'https://www.apsnet.org/edcenter/resources/commonnames/Pages/Pecan.aspx', 'Pepper': 'https://www.apsnet.org/edcenter/resources/commonnames/Pages/Pepper.aspx', 'Persian Violet': 'https://www.apsnet.org/edcenter/resources/commonnames/Pages/PersianViolet.aspx', 'Pigeonpea': 'https://www.apsnet.org/edcenter/resources/commonnames/Pages/Pigeonpea.aspx', 'Pineapple': 'https://www.apsnet.org/edcenter/resources/commonnames/Pages/Pineapple.aspx', 'Pistachio': 'https://www.apsnet.org/edcenter/resources/commonnames/Pages/Pistachio.aspx', 'Pocketbook Plant': 'https://www.apsnet.org/edcenter/resources/commonnames/Pages/PocketbookPlant.aspx', 'Poinsettia': 'https://www.apsnet.org/edcenter/resources/commonnames/Pages/Poinsettia.aspx', 'Potato': 'https://www.apsnet.org/edcenter/resources/commonnames/Pages/Potato.aspx', 'Primulas': 'https://www.apsnet.org/edcenter/resources/commonnames/Pages/Primulas.aspx', 'Rapeseed = Canola': 'https://www.apsnet.org/edcenter/resources/commonnames/Pages/Rapeseed.aspx', 'Red Clover': 'https://www.apsnet.org/edcenter/resources/commonnames/Pages/RedClover.aspx', 'Rhododendron': 'https://www.apsnet.org/edcenter/resources/commonnames/Pages/Rhododendron.aspx', 'Rice': 'https://www.apsnet.org/edcenter/resources/commonnames/Pages/Rice.aspx', 'Rose': 'https://www.apsnet.org/edcenter/resources/commonnames/Pages/Rose.aspx', 'Rye': 'https://www.apsnet.org/edcenter/resources/commonnames/Pages/Rye.aspx', 'Safflower': 'https://www.apsnet.org/edcenter/resources/commonnames/Pages/Safflower.aspx', 'Sapphire Flower': 'https://www.apsnet.org/edcenter/resources/commonnames/Pages/SapphireFlower.aspx', 'Sorghum': 'https://www.apsnet.org/edcenter/resources/commonnames/Pages/Sorghum.aspx', 'Soybean': 'https://www.apsnet.org/edcenter/resources/commonnames/Pages/Soybean.aspx', 'Spinach': 'https://www.apsnet.org/edcenter/resources/commonnames/Pages/Spinach.aspx', 'Strawberry': 'https://www.apsnet.org/edcenter/resources/commonnames/Pages/Strawberry.aspx', 'Sugarcane': 'https://www.apsnet.org/edcenter/resources/commonnames/Pages/Sugarcane.aspx', 'Sunflower and Jerusalem Artichoke': 'https://www.apsnet.org/edcenter/resources/commonnames/Pages/Sunflower.aspx', 'Sweet Cherry and Sour Cherry': 'https://www.apsnet.org/edcenter/resources/commonnames/Pages/Cherry.aspx', 'Sweetgum': 'https://www.apsnet.org/edcenter/resources/commonnames/Pages/DiseasesofSweetgum.aspx', 'Sweetpotato': 'https://www.apsnet.org/edcenter/resources/commonnames/Pages/Sweetpotato.aspx', 'Sycamore': 'https://www.apsnet.org/edcenter/resources/commonnames/Pages/Sycamore.aspx', 'Tea': 'https://www.apsnet.org/edcenter/resources/commonnames/Pages/Tea.aspx', 'Tobacco': 'https://www.apsnet.org/edcenter/resources/commonnames/Pages/Tobacco.aspx', 'Tomato': 'https://www.apsnet.org/edcenter/resources/commonnames/Pages/Tomato.aspx', 'Turfgrasses': 'https://www.apsnet.org/edcenter/resources/commonnames/Pages/Turfgrasses.aspx', 'Verbena': 'https://www.apsnet.org/edcenter/resources/commonnames/Pages/Verbena.aspx', 'Wheat': 'https://www.apsnet.org/edcenter/resources/commonnames/Pages/Wheat.aspx'}\n"
     ]
    }
   ],
   "source": [
    "plantsLinks = json.load(open(path / \"APSplants.txt\"))\n",
    "print(plantsLinks)"
   ]
  },
  {
   "cell_type": "code",
   "execution_count": 6,
   "metadata": {},
   "outputs": [],
   "source": [
    "for i in plantsLinks:\n",
    "        # Открытие веб-страницы\n",
    "        driver.get(plantsLinks[i])\n",
    "\n",
    "        time.sleep(5)  # ожидание\n",
    "\n",
    "        html=driver.page_source\n",
    "\n",
    "        soup = BeautifulSoup(html, 'html.parser')\n",
    "\n",
    "        plant_disease_html=soup.find_all({'h3','dt','dd'})\n",
    "\n",
    "        file_name = i +'.html'\n",
    "        file_path = os.path.join(path / \"raw\", file_name)\n",
    "\n",
    "        with open(file_path, 'w', encoding='utf-8') as f:\n",
    "                f.write(str(plant_disease_html))\n"
   ]
  },
  {
   "cell_type": "code",
   "execution_count": 6,
   "metadata": {},
   "outputs": [],
   "source": [
    "# Закрытие браузера\n",
    "driver.quit()"
   ]
  }
 ],
 "metadata": {
  "kernelspec": {
   "display_name": "Python 3",
   "language": "python",
   "name": "python3"
  },
  "language_info": {
   "codemirror_mode": {
    "name": "ipython",
    "version": 3
   },
   "file_extension": ".py",
   "mimetype": "text/x-python",
   "name": "python",
   "nbconvert_exporter": "python",
   "pygments_lexer": "ipython3",
   "version": "3.12.3"
  }
 },
 "nbformat": 4,
 "nbformat_minor": 2
}
